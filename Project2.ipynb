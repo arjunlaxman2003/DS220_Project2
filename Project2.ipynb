{
  "nbformat": 4,
  "nbformat_minor": 0,
  "metadata": {
    "colab": {
      "provenance": []
    },
    "kernelspec": {
      "name": "python3",
      "display_name": "Python 3"
    },
    "language_info": {
      "name": "python"
    }
  },
  "cells": [
    {
      "cell_type": "code",
      "source": [
        "# Import necessary libraries\n",
        "import pandas as pd\n",
        "import numpy as np\n",
        "from sklearn.model_selection import train_test_split, cross_val_score, GridSearchCV\n",
        "from sklearn.linear_model import LogisticRegression\n",
        "from sklearn.tree import DecisionTreeClassifier\n",
        "from sklearn.ensemble import RandomForestClassifier\n",
        "from sklearn.impute import SimpleImputer\n",
        "from sklearn.metrics import accuracy_score"
      ],
      "metadata": {
        "id": "B2gV3SGUQUPc"
      },
      "execution_count": null,
      "outputs": []
    },
    {
      "cell_type": "code",
      "source": [
        "# Read the training and testing datasets from CSV files\n",
        "training_dataset = pd.read_csv('/content/test.csv')\n",
        "testing_dataset = pd.read_csv('/content/test.csv')\n"
      ],
      "metadata": {
        "id": "7cCIe_4ATuQe"
      },
      "execution_count": 10,
      "outputs": []
    },
    {
      "cell_type": "code",
      "source": [
        "# Duplicate the training dataset for later use\n",
        "complete_data = pd.read_csv('/content/train.csv')"
      ],
      "metadata": {
        "id": "8B9gdtdBUPvv"
      },
      "execution_count": 90,
      "outputs": []
    },
    {
      "cell_type": "code",
      "source": [
        "# Total number of entries in the training dataset\n",
        "total_entries = 891"
      ],
      "metadata": {
        "id": "1ODRb_9nUre0"
      },
      "execution_count": 91,
      "outputs": []
    },
    {
      "cell_type": "code",
      "source": [
        "# Create a random order permutation of the total entries\n",
        "random_order = np.random.permutation(total_entries)"
      ],
      "metadata": {
        "id": "r0rBmK19UTj0"
      },
      "execution_count": 92,
      "outputs": []
    },
    {
      "cell_type": "code",
      "source": [
        "# Split ratio for training and validation data\n",
        "ratio = 0.7"
      ],
      "metadata": {
        "id": "UEUezL0LUw7y"
      },
      "execution_count": 93,
      "outputs": []
    },
    {
      "cell_type": "code",
      "source": [
        "# Calculate the index to split the data into training and validation sets\n",
        "train_end = int(total_entries * ratio)"
      ],
      "metadata": {
        "id": "_WyvTquLUzQH"
      },
      "execution_count": 94,
      "outputs": []
    },
    {
      "cell_type": "code",
      "source": [
        "# Divide the random order indices into training and validation IDs\n",
        "train_ids = random_order[:train_end]\n",
        "validate_ids = random_order[train_end:]"
      ],
      "metadata": {
        "id": "VrGgep7-U40m"
      },
      "execution_count": 95,
      "outputs": []
    },
    {
      "cell_type": "code",
      "source": [
        "# Create training and validation subsets from the complete data\n",
        "training_subset = complete_data.iloc[train_ids]\n",
        "validation_subset = complete_data.iloc[validate_ids]"
      ],
      "metadata": {
        "id": "nmYZTFDnU8UU"
      },
      "execution_count": 96,
      "outputs": []
    },
    {
      "cell_type": "code",
      "source": [
        "# Print the sizes of the training and validation subsets\n",
        "print(\"Training subset size:\", len(training_subset))\n",
        "print(\"Validation subset size:\", len(validation_subset))"
      ],
      "metadata": {
        "colab": {
          "base_uri": "https://localhost:8080/"
        },
        "id": "zaoUG4nKU-nk",
        "outputId": "9fc1f233-b751-4179-e73f-152e39fcb77d"
      },
      "execution_count": 97,
      "outputs": [
        {
          "output_type": "stream",
          "name": "stdout",
          "text": [
            "Training subset size: 623\n",
            "Validation subset size: 268\n"
          ]
        }
      ]
    },
    {
      "cell_type": "code",
      "source": [
        "# Add a new column 'IsChild' based on the 'Age' column\n",
        "complete_data['IsChild'] = (complete_data['Age'] <= 15).astype(int)"
      ],
      "metadata": {
        "id": "FIbYPr_dVA1i"
      },
      "execution_count": 98,
      "outputs": []
    },
    {
      "cell_type": "code",
      "source": [
        "# Fill missing values in the 'Embarked' column with the mode value\n",
        "complete_data['Embarked'].fillna(complete_data['Embarked'].mode()[0], inplace=True)\n"
      ],
      "metadata": {
        "id": "BbV2uLfCVDmR"
      },
      "execution_count": 99,
      "outputs": []
    },
    {
      "cell_type": "code",
      "source": [
        "# Initialize a SimpleImputer to fill missing 'Age' values with the mean\n",
        "age_imputer = SimpleImputer(strategy='mean')\n",
        "complete_data['Age'] = age_imputer.fit_transform(complete_data['Age'].values.reshape(-1, 1))\n"
      ],
      "metadata": {
        "id": "sd0hKN5KVGmM"
      },
      "execution_count": 100,
      "outputs": []
    },
    {
      "cell_type": "code",
      "source": [
        "# Replace categorical values in 'Sex' and 'Embarked' columns with numerical values\n",
        "complete_data['Sex'] = complete_data['Sex'].replace({'male': 0, 'female': 1})\n",
        "complete_data['Embarked'] = complete_data['Embarked'].replace({'S': 0, 'C': 1, 'Q': 2})\n"
      ],
      "metadata": {
        "id": "sTI-rfpHVIvs"
      },
      "execution_count": 101,
      "outputs": []
    },
    {
      "cell_type": "code",
      "source": [
        "# Drop unnecessary columns from the complete dataset\n",
        "complete_data.drop(columns=['Name', 'Ticket', 'Cabin'], inplace=True)\n"
      ],
      "metadata": {
        "id": "mXHkSUDLVLSg"
      },
      "execution_count": 102,
      "outputs": []
    },
    {
      "cell_type": "code",
      "source": [
        "# Define features and target variables\n",
        "features = complete_data.drop('Survived', axis=1)\n",
        "target = complete_data['Survived']"
      ],
      "metadata": {
        "id": "IrUinVoPVNeX"
      },
      "execution_count": 103,
      "outputs": []
    },
    {
      "cell_type": "code",
      "source": [
        "# Split the data into training and testing sets\n",
        "X_train, X_test, y_train, y_test = train_test_split(features, target, test_size=0.3, random_state=11)\n"
      ],
      "metadata": {
        "id": "_HciaA4dVXDh"
      },
      "execution_count": 104,
      "outputs": []
    },
    {
      "cell_type": "code",
      "source": [
        "# Create a dictionary of models to be tested\n",
        "model_dict = {\n",
        "    \"Logistic Regression\": LogisticRegression(random_state=11, max_iter=1000),\n",
        "    \"Decision Tree\": DecisionTreeClassifier(random_state=11),\n",
        "    \"Random Forest\": RandomForestClassifier(random_state=11)\n",
        "}"
      ],
      "metadata": {
        "id": "-qRPRdHPVZh0"
      },
      "execution_count": 105,
      "outputs": []
    },
    {
      "cell_type": "code",
      "source": [
        "# Loop through the models and fit them to the training data\n",
        "for name, model in model_dict.items():\n",
        "    model.fit(X_train, y_train)\n",
        "    predictions = model.predict(X_test)\n",
        "    score = accuracy_score(y_test, predictions)\n",
        "    print(f\"Accuracy for {name}: {score}\")"
      ],
      "metadata": {
        "colab": {
          "base_uri": "https://localhost:8080/"
        },
        "id": "7wMoYnu4VbfD",
        "outputId": "3a3bb068-5917-471a-ac64-2e23c9643172"
      },
      "execution_count": 106,
      "outputs": [
        {
          "output_type": "stream",
          "name": "stdout",
          "text": [
            "Accuracy for Logistic Regression: 0.8582089552238806\n",
            "Accuracy for Decision Tree: 0.7089552238805971\n",
            "Accuracy for Random Forest: 0.8097014925373134\n"
          ]
        }
      ]
    },
    {
      "cell_type": "code",
      "source": [
        "# Create a Decision Tree model for further analysis\n",
        "dt_model = DecisionTreeClassifier(random_state=11)"
      ],
      "metadata": {
        "id": "xX4-mPyqVbgq"
      },
      "execution_count": 107,
      "outputs": []
    },
    {
      "cell_type": "code",
      "source": [
        "# Perform cross-validation on the Decision Tree model\n",
        "cross_val_scores = cross_val_score(dt_model, X_train, y_train, cv=10)\n",
        "print(\"Decision Tree Cross-Validation Accuracy:\", cross_val_scores.mean())\n"
      ],
      "metadata": {
        "colab": {
          "base_uri": "https://localhost:8080/"
        },
        "id": "Pmd2jF1cVgoY",
        "outputId": "12b3e653-c5ec-45c1-c8e5-a77e3940675d"
      },
      "execution_count": 108,
      "outputs": [
        {
          "output_type": "stream",
          "name": "stdout",
          "text": [
            "Decision Tree Cross-Validation Accuracy: 0.7560931899641576\n"
          ]
        }
      ]
    },
    {
      "cell_type": "code",
      "source": [
        "# Fit the Decision Tree model to the training data\n",
        "dt_model.fit(X_train, y_train)"
      ],
      "metadata": {
        "colab": {
          "base_uri": "https://localhost:8080/",
          "height": 74
        },
        "id": "oBCgd9J3VgrD",
        "outputId": "c704a2d1-dc5a-47c8-a125-f45db2cac4e5"
      },
      "execution_count": 109,
      "outputs": [
        {
          "output_type": "execute_result",
          "data": {
            "text/plain": [
              "DecisionTreeClassifier(random_state=11)"
            ],
            "text/html": [
              "<style>#sk-container-id-7 {color: black;background-color: white;}#sk-container-id-7 pre{padding: 0;}#sk-container-id-7 div.sk-toggleable {background-color: white;}#sk-container-id-7 label.sk-toggleable__label {cursor: pointer;display: block;width: 100%;margin-bottom: 0;padding: 0.3em;box-sizing: border-box;text-align: center;}#sk-container-id-7 label.sk-toggleable__label-arrow:before {content: \"▸\";float: left;margin-right: 0.25em;color: #696969;}#sk-container-id-7 label.sk-toggleable__label-arrow:hover:before {color: black;}#sk-container-id-7 div.sk-estimator:hover label.sk-toggleable__label-arrow:before {color: black;}#sk-container-id-7 div.sk-toggleable__content {max-height: 0;max-width: 0;overflow: hidden;text-align: left;background-color: #f0f8ff;}#sk-container-id-7 div.sk-toggleable__content pre {margin: 0.2em;color: black;border-radius: 0.25em;background-color: #f0f8ff;}#sk-container-id-7 input.sk-toggleable__control:checked~div.sk-toggleable__content {max-height: 200px;max-width: 100%;overflow: auto;}#sk-container-id-7 input.sk-toggleable__control:checked~label.sk-toggleable__label-arrow:before {content: \"▾\";}#sk-container-id-7 div.sk-estimator input.sk-toggleable__control:checked~label.sk-toggleable__label {background-color: #d4ebff;}#sk-container-id-7 div.sk-label input.sk-toggleable__control:checked~label.sk-toggleable__label {background-color: #d4ebff;}#sk-container-id-7 input.sk-hidden--visually {border: 0;clip: rect(1px 1px 1px 1px);clip: rect(1px, 1px, 1px, 1px);height: 1px;margin: -1px;overflow: hidden;padding: 0;position: absolute;width: 1px;}#sk-container-id-7 div.sk-estimator {font-family: monospace;background-color: #f0f8ff;border: 1px dotted black;border-radius: 0.25em;box-sizing: border-box;margin-bottom: 0.5em;}#sk-container-id-7 div.sk-estimator:hover {background-color: #d4ebff;}#sk-container-id-7 div.sk-parallel-item::after {content: \"\";width: 100%;border-bottom: 1px solid gray;flex-grow: 1;}#sk-container-id-7 div.sk-label:hover label.sk-toggleable__label {background-color: #d4ebff;}#sk-container-id-7 div.sk-serial::before {content: \"\";position: absolute;border-left: 1px solid gray;box-sizing: border-box;top: 0;bottom: 0;left: 50%;z-index: 0;}#sk-container-id-7 div.sk-serial {display: flex;flex-direction: column;align-items: center;background-color: white;padding-right: 0.2em;padding-left: 0.2em;position: relative;}#sk-container-id-7 div.sk-item {position: relative;z-index: 1;}#sk-container-id-7 div.sk-parallel {display: flex;align-items: stretch;justify-content: center;background-color: white;position: relative;}#sk-container-id-7 div.sk-item::before, #sk-container-id-7 div.sk-parallel-item::before {content: \"\";position: absolute;border-left: 1px solid gray;box-sizing: border-box;top: 0;bottom: 0;left: 50%;z-index: -1;}#sk-container-id-7 div.sk-parallel-item {display: flex;flex-direction: column;z-index: 1;position: relative;background-color: white;}#sk-container-id-7 div.sk-parallel-item:first-child::after {align-self: flex-end;width: 50%;}#sk-container-id-7 div.sk-parallel-item:last-child::after {align-self: flex-start;width: 50%;}#sk-container-id-7 div.sk-parallel-item:only-child::after {width: 0;}#sk-container-id-7 div.sk-dashed-wrapped {border: 1px dashed gray;margin: 0 0.4em 0.5em 0.4em;box-sizing: border-box;padding-bottom: 0.4em;background-color: white;}#sk-container-id-7 div.sk-label label {font-family: monospace;font-weight: bold;display: inline-block;line-height: 1.2em;}#sk-container-id-7 div.sk-label-container {text-align: center;}#sk-container-id-7 div.sk-container {/* jupyter's `normalize.less` sets `[hidden] { display: none; }` but bootstrap.min.css set `[hidden] { display: none !important; }` so we also need the `!important` here to be able to override the default hidden behavior on the sphinx rendered scikit-learn.org. See: https://github.com/scikit-learn/scikit-learn/issues/21755 */display: inline-block !important;position: relative;}#sk-container-id-7 div.sk-text-repr-fallback {display: none;}</style><div id=\"sk-container-id-7\" class=\"sk-top-container\"><div class=\"sk-text-repr-fallback\"><pre>DecisionTreeClassifier(random_state=11)</pre><b>In a Jupyter environment, please rerun this cell to show the HTML representation or trust the notebook. <br />On GitHub, the HTML representation is unable to render, please try loading this page with nbviewer.org.</b></div><div class=\"sk-container\" hidden><div class=\"sk-item\"><div class=\"sk-estimator sk-toggleable\"><input class=\"sk-toggleable__control sk-hidden--visually\" id=\"sk-estimator-id-11\" type=\"checkbox\" checked><label for=\"sk-estimator-id-11\" class=\"sk-toggleable__label sk-toggleable__label-arrow\">DecisionTreeClassifier</label><div class=\"sk-toggleable__content\"><pre>DecisionTreeClassifier(random_state=11)</pre></div></div></div></div></div>"
            ]
          },
          "metadata": {},
          "execution_count": 109
        }
      ]
    },
    {
      "cell_type": "code",
      "source": [
        "# Calculate feature importances for the Decision Tree model\n",
        "importances = dt_model.feature_importances_\n",
        "print(\"Decision Tree Feature Importance:\")\n",
        "for feature, importance in zip(features.columns, importances):\n",
        "    print(f\"{feature}: {importance}\")"
      ],
      "metadata": {
        "colab": {
          "base_uri": "https://localhost:8080/"
        },
        "id": "cN_lEsBfVguL",
        "outputId": "3126016c-64a2-4b46-f617-6f8c68999ce2"
      },
      "execution_count": 110,
      "outputs": [
        {
          "output_type": "stream",
          "name": "stdout",
          "text": [
            "Decision Tree Feature Importance:\n",
            "PassengerId: 0.22726608511844604\n",
            "Pclass: 0.11020614526611024\n",
            "Sex: 0.26642838547818015\n",
            "Age: 0.18017855151093387\n",
            "SibSp: 0.026352695859398274\n",
            "Parch: 0.018550874596509104\n",
            "Fare: 0.13776249019582693\n",
            "Embarked: 0.021541391521268532\n",
            "IsChild: 0.01171338045332682\n"
          ]
        }
      ]
    },
    {
      "cell_type": "code",
      "source": [
        "# Define a parameter grid for hyperparameter tuning\n",
        "parameters = {\n",
        "    'criterion': ['gini', 'entropy'],\n",
        "    'max_depth': [None, 10, 20, 30, 40],\n",
        "    'min_samples_split': [2, 5, 10],\n",
        "    'min_samples_leaf': [1, 2, 4]\n",
        "}"
      ],
      "metadata": {
        "id": "C0qWydqMVoWA"
      },
      "execution_count": 111,
      "outputs": []
    },
    {
      "cell_type": "code",
      "source": [
        "# Create a grid search to find the best hyperparameters for the Decision Tree model\n",
        "grid = GridSearchCV(dt_model, parameters, cv=5)\n",
        "grid.fit(X_train, y_train)"
      ],
      "metadata": {
        "colab": {
          "base_uri": "https://localhost:8080/",
          "height": 115
        },
        "id": "k6e1RVL7VoYj",
        "outputId": "e9b7453a-773c-4e9e-e9d0-6e3f7143bb02"
      },
      "execution_count": 112,
      "outputs": [
        {
          "output_type": "execute_result",
          "data": {
            "text/plain": [
              "GridSearchCV(cv=5, estimator=DecisionTreeClassifier(random_state=11),\n",
              "             param_grid={'criterion': ['gini', 'entropy'],\n",
              "                         'max_depth': [None, 10, 20, 30, 40],\n",
              "                         'min_samples_leaf': [1, 2, 4],\n",
              "                         'min_samples_split': [2, 5, 10]})"
            ],
            "text/html": [
              "<style>#sk-container-id-8 {color: black;background-color: white;}#sk-container-id-8 pre{padding: 0;}#sk-container-id-8 div.sk-toggleable {background-color: white;}#sk-container-id-8 label.sk-toggleable__label {cursor: pointer;display: block;width: 100%;margin-bottom: 0;padding: 0.3em;box-sizing: border-box;text-align: center;}#sk-container-id-8 label.sk-toggleable__label-arrow:before {content: \"▸\";float: left;margin-right: 0.25em;color: #696969;}#sk-container-id-8 label.sk-toggleable__label-arrow:hover:before {color: black;}#sk-container-id-8 div.sk-estimator:hover label.sk-toggleable__label-arrow:before {color: black;}#sk-container-id-8 div.sk-toggleable__content {max-height: 0;max-width: 0;overflow: hidden;text-align: left;background-color: #f0f8ff;}#sk-container-id-8 div.sk-toggleable__content pre {margin: 0.2em;color: black;border-radius: 0.25em;background-color: #f0f8ff;}#sk-container-id-8 input.sk-toggleable__control:checked~div.sk-toggleable__content {max-height: 200px;max-width: 100%;overflow: auto;}#sk-container-id-8 input.sk-toggleable__control:checked~label.sk-toggleable__label-arrow:before {content: \"▾\";}#sk-container-id-8 div.sk-estimator input.sk-toggleable__control:checked~label.sk-toggleable__label {background-color: #d4ebff;}#sk-container-id-8 div.sk-label input.sk-toggleable__control:checked~label.sk-toggleable__label {background-color: #d4ebff;}#sk-container-id-8 input.sk-hidden--visually {border: 0;clip: rect(1px 1px 1px 1px);clip: rect(1px, 1px, 1px, 1px);height: 1px;margin: -1px;overflow: hidden;padding: 0;position: absolute;width: 1px;}#sk-container-id-8 div.sk-estimator {font-family: monospace;background-color: #f0f8ff;border: 1px dotted black;border-radius: 0.25em;box-sizing: border-box;margin-bottom: 0.5em;}#sk-container-id-8 div.sk-estimator:hover {background-color: #d4ebff;}#sk-container-id-8 div.sk-parallel-item::after {content: \"\";width: 100%;border-bottom: 1px solid gray;flex-grow: 1;}#sk-container-id-8 div.sk-label:hover label.sk-toggleable__label {background-color: #d4ebff;}#sk-container-id-8 div.sk-serial::before {content: \"\";position: absolute;border-left: 1px solid gray;box-sizing: border-box;top: 0;bottom: 0;left: 50%;z-index: 0;}#sk-container-id-8 div.sk-serial {display: flex;flex-direction: column;align-items: center;background-color: white;padding-right: 0.2em;padding-left: 0.2em;position: relative;}#sk-container-id-8 div.sk-item {position: relative;z-index: 1;}#sk-container-id-8 div.sk-parallel {display: flex;align-items: stretch;justify-content: center;background-color: white;position: relative;}#sk-container-id-8 div.sk-item::before, #sk-container-id-8 div.sk-parallel-item::before {content: \"\";position: absolute;border-left: 1px solid gray;box-sizing: border-box;top: 0;bottom: 0;left: 50%;z-index: -1;}#sk-container-id-8 div.sk-parallel-item {display: flex;flex-direction: column;z-index: 1;position: relative;background-color: white;}#sk-container-id-8 div.sk-parallel-item:first-child::after {align-self: flex-end;width: 50%;}#sk-container-id-8 div.sk-parallel-item:last-child::after {align-self: flex-start;width: 50%;}#sk-container-id-8 div.sk-parallel-item:only-child::after {width: 0;}#sk-container-id-8 div.sk-dashed-wrapped {border: 1px dashed gray;margin: 0 0.4em 0.5em 0.4em;box-sizing: border-box;padding-bottom: 0.4em;background-color: white;}#sk-container-id-8 div.sk-label label {font-family: monospace;font-weight: bold;display: inline-block;line-height: 1.2em;}#sk-container-id-8 div.sk-label-container {text-align: center;}#sk-container-id-8 div.sk-container {/* jupyter's `normalize.less` sets `[hidden] { display: none; }` but bootstrap.min.css set `[hidden] { display: none !important; }` so we also need the `!important` here to be able to override the default hidden behavior on the sphinx rendered scikit-learn.org. See: https://github.com/scikit-learn/scikit-learn/issues/21755 */display: inline-block !important;position: relative;}#sk-container-id-8 div.sk-text-repr-fallback {display: none;}</style><div id=\"sk-container-id-8\" class=\"sk-top-container\"><div class=\"sk-text-repr-fallback\"><pre>GridSearchCV(cv=5, estimator=DecisionTreeClassifier(random_state=11),\n",
              "             param_grid={&#x27;criterion&#x27;: [&#x27;gini&#x27;, &#x27;entropy&#x27;],\n",
              "                         &#x27;max_depth&#x27;: [None, 10, 20, 30, 40],\n",
              "                         &#x27;min_samples_leaf&#x27;: [1, 2, 4],\n",
              "                         &#x27;min_samples_split&#x27;: [2, 5, 10]})</pre><b>In a Jupyter environment, please rerun this cell to show the HTML representation or trust the notebook. <br />On GitHub, the HTML representation is unable to render, please try loading this page with nbviewer.org.</b></div><div class=\"sk-container\" hidden><div class=\"sk-item sk-dashed-wrapped\"><div class=\"sk-label-container\"><div class=\"sk-label sk-toggleable\"><input class=\"sk-toggleable__control sk-hidden--visually\" id=\"sk-estimator-id-12\" type=\"checkbox\" ><label for=\"sk-estimator-id-12\" class=\"sk-toggleable__label sk-toggleable__label-arrow\">GridSearchCV</label><div class=\"sk-toggleable__content\"><pre>GridSearchCV(cv=5, estimator=DecisionTreeClassifier(random_state=11),\n",
              "             param_grid={&#x27;criterion&#x27;: [&#x27;gini&#x27;, &#x27;entropy&#x27;],\n",
              "                         &#x27;max_depth&#x27;: [None, 10, 20, 30, 40],\n",
              "                         &#x27;min_samples_leaf&#x27;: [1, 2, 4],\n",
              "                         &#x27;min_samples_split&#x27;: [2, 5, 10]})</pre></div></div></div><div class=\"sk-parallel\"><div class=\"sk-parallel-item\"><div class=\"sk-item\"><div class=\"sk-label-container\"><div class=\"sk-label sk-toggleable\"><input class=\"sk-toggleable__control sk-hidden--visually\" id=\"sk-estimator-id-13\" type=\"checkbox\" ><label for=\"sk-estimator-id-13\" class=\"sk-toggleable__label sk-toggleable__label-arrow\">estimator: DecisionTreeClassifier</label><div class=\"sk-toggleable__content\"><pre>DecisionTreeClassifier(random_state=11)</pre></div></div></div><div class=\"sk-serial\"><div class=\"sk-item\"><div class=\"sk-estimator sk-toggleable\"><input class=\"sk-toggleable__control sk-hidden--visually\" id=\"sk-estimator-id-14\" type=\"checkbox\" ><label for=\"sk-estimator-id-14\" class=\"sk-toggleable__label sk-toggleable__label-arrow\">DecisionTreeClassifier</label><div class=\"sk-toggleable__content\"><pre>DecisionTreeClassifier(random_state=11)</pre></div></div></div></div></div></div></div></div></div></div>"
            ]
          },
          "metadata": {},
          "execution_count": 112
        }
      ]
    },
    {
      "cell_type": "code",
      "source": [
        "# Get the optimized Decision Tree model with the best parameters\n",
        "optimized_dt = grid.best_estimator_\n",
        "print(\"Optimized Decision Tree Parameters:\", grid.best_params_)\n"
      ],
      "metadata": {
        "colab": {
          "base_uri": "https://localhost:8080/"
        },
        "id": "BbXzpHGKVtTU",
        "outputId": "452ea56b-d44f-41ae-c627-19883fb1655b"
      },
      "execution_count": 113,
      "outputs": [
        {
          "output_type": "stream",
          "name": "stdout",
          "text": [
            "Optimized Decision Tree Parameters: {'criterion': 'gini', 'max_depth': 10, 'min_samples_leaf': 1, 'min_samples_split': 10}\n"
          ]
        }
      ]
    },
    {
      "cell_type": "code",
      "source": [
        "# Make predictions using the optimized Decision Tree model on the test data\n",
        "optimized_predictions = optimized_dt.predict(X_test)\n",
        "optimized_score = accuracy_score(y_test, optimized_predictions)\n",
        "print(\"Optimized Decision Tree Accuracy:\", optimized_score)"
      ],
      "metadata": {
        "colab": {
          "base_uri": "https://localhost:8080/"
        },
        "id": "UCbptAucVtV3",
        "outputId": "3134ab15-8967-464f-c157-0c52ab9a06de"
      },
      "execution_count": 114,
      "outputs": [
        {
          "output_type": "stream",
          "name": "stdout",
          "text": [
            "Optimized Decision Tree Accuracy: 0.7835820895522388\n"
          ]
        }
      ]
    },
    {
      "cell_type": "code",
      "source": [
        "# Read the submission data from the test dataset\n",
        "submission_data = pd.read_csv('/content/test.csv')\n"
      ],
      "metadata": {
        "id": "axxDOX20VyXQ"
      },
      "execution_count": 115,
      "outputs": []
    },
    {
      "cell_type": "code",
      "source": [
        "# Add 'IsChild' column to the submission data\n",
        "submission_data['IsChild'] = (submission_data['Age'] <= 15).astype(int)\n"
      ],
      "metadata": {
        "id": "CvSq6cQJV8Pd"
      },
      "execution_count": 116,
      "outputs": []
    },
    {
      "cell_type": "code",
      "source": [
        "# Prepare the submission data for prediction by dropping unnecessary columns\n",
        "X_submission = submission_data.drop(columns=['PassengerId', 'Name', 'Ticket', 'Cabin'])\n"
      ],
      "metadata": {
        "id": "znIiPDQIWC5b"
      },
      "execution_count": 119,
      "outputs": []
    },
    {
      "cell_type": "code",
      "source": [
        "# Fit the optimized Decision Tree model to the complete dataset\n",
        "optimized_dt.fit(features, target)"
      ],
      "metadata": {
        "colab": {
          "base_uri": "https://localhost:8080/",
          "height": 74
        },
        "id": "ejXNcDFkWFS7",
        "outputId": "51795226-ac92-4bc0-f71c-b15caa335c13"
      },
      "execution_count": 120,
      "outputs": [
        {
          "output_type": "execute_result",
          "data": {
            "text/plain": [
              "DecisionTreeClassifier(max_depth=10, min_samples_split=10, random_state=11)"
            ],
            "text/html": [
              "<style>#sk-container-id-9 {color: black;background-color: white;}#sk-container-id-9 pre{padding: 0;}#sk-container-id-9 div.sk-toggleable {background-color: white;}#sk-container-id-9 label.sk-toggleable__label {cursor: pointer;display: block;width: 100%;margin-bottom: 0;padding: 0.3em;box-sizing: border-box;text-align: center;}#sk-container-id-9 label.sk-toggleable__label-arrow:before {content: \"▸\";float: left;margin-right: 0.25em;color: #696969;}#sk-container-id-9 label.sk-toggleable__label-arrow:hover:before {color: black;}#sk-container-id-9 div.sk-estimator:hover label.sk-toggleable__label-arrow:before {color: black;}#sk-container-id-9 div.sk-toggleable__content {max-height: 0;max-width: 0;overflow: hidden;text-align: left;background-color: #f0f8ff;}#sk-container-id-9 div.sk-toggleable__content pre {margin: 0.2em;color: black;border-radius: 0.25em;background-color: #f0f8ff;}#sk-container-id-9 input.sk-toggleable__control:checked~div.sk-toggleable__content {max-height: 200px;max-width: 100%;overflow: auto;}#sk-container-id-9 input.sk-toggleable__control:checked~label.sk-toggleable__label-arrow:before {content: \"▾\";}#sk-container-id-9 div.sk-estimator input.sk-toggleable__control:checked~label.sk-toggleable__label {background-color: #d4ebff;}#sk-container-id-9 div.sk-label input.sk-toggleable__control:checked~label.sk-toggleable__label {background-color: #d4ebff;}#sk-container-id-9 input.sk-hidden--visually {border: 0;clip: rect(1px 1px 1px 1px);clip: rect(1px, 1px, 1px, 1px);height: 1px;margin: -1px;overflow: hidden;padding: 0;position: absolute;width: 1px;}#sk-container-id-9 div.sk-estimator {font-family: monospace;background-color: #f0f8ff;border: 1px dotted black;border-radius: 0.25em;box-sizing: border-box;margin-bottom: 0.5em;}#sk-container-id-9 div.sk-estimator:hover {background-color: #d4ebff;}#sk-container-id-9 div.sk-parallel-item::after {content: \"\";width: 100%;border-bottom: 1px solid gray;flex-grow: 1;}#sk-container-id-9 div.sk-label:hover label.sk-toggleable__label {background-color: #d4ebff;}#sk-container-id-9 div.sk-serial::before {content: \"\";position: absolute;border-left: 1px solid gray;box-sizing: border-box;top: 0;bottom: 0;left: 50%;z-index: 0;}#sk-container-id-9 div.sk-serial {display: flex;flex-direction: column;align-items: center;background-color: white;padding-right: 0.2em;padding-left: 0.2em;position: relative;}#sk-container-id-9 div.sk-item {position: relative;z-index: 1;}#sk-container-id-9 div.sk-parallel {display: flex;align-items: stretch;justify-content: center;background-color: white;position: relative;}#sk-container-id-9 div.sk-item::before, #sk-container-id-9 div.sk-parallel-item::before {content: \"\";position: absolute;border-left: 1px solid gray;box-sizing: border-box;top: 0;bottom: 0;left: 50%;z-index: -1;}#sk-container-id-9 div.sk-parallel-item {display: flex;flex-direction: column;z-index: 1;position: relative;background-color: white;}#sk-container-id-9 div.sk-parallel-item:first-child::after {align-self: flex-end;width: 50%;}#sk-container-id-9 div.sk-parallel-item:last-child::after {align-self: flex-start;width: 50%;}#sk-container-id-9 div.sk-parallel-item:only-child::after {width: 0;}#sk-container-id-9 div.sk-dashed-wrapped {border: 1px dashed gray;margin: 0 0.4em 0.5em 0.4em;box-sizing: border-box;padding-bottom: 0.4em;background-color: white;}#sk-container-id-9 div.sk-label label {font-family: monospace;font-weight: bold;display: inline-block;line-height: 1.2em;}#sk-container-id-9 div.sk-label-container {text-align: center;}#sk-container-id-9 div.sk-container {/* jupyter's `normalize.less` sets `[hidden] { display: none; }` but bootstrap.min.css set `[hidden] { display: none !important; }` so we also need the `!important` here to be able to override the default hidden behavior on the sphinx rendered scikit-learn.org. See: https://github.com/scikit-learn/scikit-learn/issues/21755 */display: inline-block !important;position: relative;}#sk-container-id-9 div.sk-text-repr-fallback {display: none;}</style><div id=\"sk-container-id-9\" class=\"sk-top-container\"><div class=\"sk-text-repr-fallback\"><pre>DecisionTreeClassifier(max_depth=10, min_samples_split=10, random_state=11)</pre><b>In a Jupyter environment, please rerun this cell to show the HTML representation or trust the notebook. <br />On GitHub, the HTML representation is unable to render, please try loading this page with nbviewer.org.</b></div><div class=\"sk-container\" hidden><div class=\"sk-item\"><div class=\"sk-estimator sk-toggleable\"><input class=\"sk-toggleable__control sk-hidden--visually\" id=\"sk-estimator-id-15\" type=\"checkbox\" checked><label for=\"sk-estimator-id-15\" class=\"sk-toggleable__label sk-toggleable__label-arrow\">DecisionTreeClassifier</label><div class=\"sk-toggleable__content\"><pre>DecisionTreeClassifier(max_depth=10, min_samples_split=10, random_state=11)</pre></div></div></div></div></div>"
            ]
          },
          "metadata": {},
          "execution_count": 120
        }
      ]
    },
    {
      "cell_type": "code",
      "source": [
        "# Create the 'IsChild' feature for the submission data\n",
        "submission_data['IsChild'] = (submission_data['Age'] <= 15).astype(int)\n"
      ],
      "metadata": {
        "id": "s_T6yup3biJv"
      },
      "execution_count": 124,
      "outputs": []
    },
    {
      "cell_type": "code",
      "source": [
        "# Replace categorical values with numerical values in the submission data\n",
        "submission_data['Sex'] = submission_data['Sex'].replace({'male': 0, 'female': 1})\n",
        "submission_data['Embarked'] = submission_data['Embarked'].replace({'S': 0, 'C': 1, 'Q': 2})\n"
      ],
      "metadata": {
        "id": "HpnpKKnEbi8j"
      },
      "execution_count": 125,
      "outputs": []
    },
    {
      "cell_type": "code",
      "source": [
        "# Impute missing values in the 'Age' column of submission data\n",
        "submission_data['Age'] = age_imputer.transform(submission_data['Age'].values.reshape(-1, 1))\n"
      ],
      "metadata": {
        "id": "dMxm7mZ5bll2"
      },
      "execution_count": 126,
      "outputs": []
    },
    {
      "cell_type": "code",
      "source": [
        "# Drop unnecessary columns from the submission data\n",
        "X_submission = submission_data.drop(columns=['Name', 'Ticket', 'Cabin'])\n"
      ],
      "metadata": {
        "id": "IDqy1LXdbnuA"
      },
      "execution_count": 131,
      "outputs": []
    },
    {
      "cell_type": "code",
      "source": [
        "# Ensure that the 'PassengerId' column is present in X_submission\n",
        "# creating a placeholder 'PassengerId' column with zeros\n",
        "X_submission['PassengerId'] = 0\n"
      ],
      "metadata": {
        "id": "q6Jn2VKDbqDS"
      },
      "execution_count": 132,
      "outputs": []
    },
    {
      "cell_type": "code",
      "source": [
        "# Reorder the columns to match the order used during training\n",
        "X_submission = X_submission[features.columns]\n"
      ],
      "metadata": {
        "id": "Cc9saUEZci_F"
      },
      "execution_count": 133,
      "outputs": []
    },
    {
      "cell_type": "code",
      "source": [
        "# Check for and handle any remaining missing values in the dataset\n",
        "X_submission.fillna(0, inplace=True)  # Fill NaN values with zeros (or you can choose an appropriate value)\n"
      ],
      "metadata": {
        "id": "lt0KunEkckxs"
      },
      "execution_count": 135,
      "outputs": []
    },
    {
      "cell_type": "code",
      "source": [
        "# Make predictions on the submission data\n",
        "submission_predictions = optimized_dt.predict(X_submission)"
      ],
      "metadata": {
        "id": "V3GpeVIrdseG"
      },
      "execution_count": 136,
      "outputs": []
    },
    {
      "cell_type": "code",
      "source": [
        "# Add the 'Survived' column to the submission data\n",
        "submission_data['Survived'] = submission_predictions"
      ],
      "metadata": {
        "id": "isXT-MjibzJR"
      },
      "execution_count": 137,
      "outputs": []
    },
    {
      "cell_type": "code",
      "source": [
        "# Save the submission data to a CSV file\n",
        "submission_data[['PassengerId', 'Survived']].to_csv('Decision_Tree_submission.csv', index=False)\n"
      ],
      "metadata": {
        "id": "lCdvhMdtWHWn"
      },
      "execution_count": 138,
      "outputs": []
    },
    {
      "cell_type": "markdown",
      "source": [
        "Queries\n",
        "\n",
        "Data Interpretation: Utilize visual tools such as pie charts or bar graphs to demonstrate survival proportions in different demographic groups. This aids in visually representing the survival ratio within distinct segments.\n",
        "\n",
        "Data Grouping: For calculating survival rates, segment the data by key demographics like age, gender, and socioeconomic status. An example would be assessing the survival percentage in each segment.\n",
        "\n",
        "Insight: A significant insight could be the higher survival rates of women and children. This can be substantiated by data indicating greater survival percentages for these groups.\n",
        "\n",
        "Comparative Survival Across Socioeconomic Tiers:\n",
        "\n",
        "Data Interpretation: Employ bar graphs to delineate survival differences among various socioeconomic tiers, such as first, second, and third classes. This method effectively illustrates the disparity in survival outcomes.\n",
        "\n",
        "Data Grouping: To evaluate the survival rate per socioeconomic tier, categorize the data accordingly and ascertain the survival percentage in each tier.\n",
        "\n",
        "Finding: A notable finding might be the markedly superior survival rate of first-class passengers. This can be inferred from data illustrating a distinct survival advantage in this group.\n",
        "\n",
        "Age-Based Survival Analysis:\n",
        "\n",
        "Data Interpretation: To explore the interplay between age and survival, apply histograms that merge age distribution with survival data. This approach facilitates the identification of age-related survival trends.\n",
        "\n",
        "Data Grouping: To study survival patterns related to age, organize the data into age brackets (such as children, young adults, middle-aged, and seniors) and calculate survival rates for each bracket.\n",
        "\n",
        "Observation: It might be observed that younger passengers had an enhanced likelihood of survival. Analysis suggests that younger age groups exhibited higher survival rates.\n",
        "\n",
        "Gender-Based Survival Analysis:\n",
        "\n",
        "Data Interpretation: To contrast survival rates across genders, employ bar graphs or pie charts to depict the survival percentages of males and females.\n",
        "\n",
        "Data Grouping: Determine survival rates by gender, calculating them separately for males and females.\n",
        "\n",
        "Finding: It might be observed that female passengers experienced higher survival rates than male passengers, as indicated by the data.\n",
        "\n",
        "Impact of Family Ties:\n",
        "\n",
        "Data Interpretation: Investigate how familial connections affected survival by comparing the survival rates of passengers with families versus those traveling alone.\n",
        "\n",
        "Data Grouping: Analyze survival rates by categorizing passengers based on family size, differentiating between those with and without families.\n",
        "\n",
        "Conclusion: A possible conclusion is that passengers traveling with family members had a marginal survival advantage, as suggested by the data indicating slightly better survival rates for these passengers.\n",
        "\n",
        "Through these analytical methods, valuable insights can be gleaned from the Titanic dataset, uncovering trends and determinants that impacted passenger survival during the catastrophe."
      ],
      "metadata": {
        "id": "PtvdqkOJeXEd"
      }
    },
    {
      "cell_type": "code",
      "source": [],
      "metadata": {
        "id": "EZWd0RphWHZS"
      },
      "execution_count": null,
      "outputs": []
    },
    {
      "cell_type": "code",
      "source": [],
      "metadata": {
        "id": "yrZbFWx-WHbp"
      },
      "execution_count": null,
      "outputs": []
    }
  ]
}
